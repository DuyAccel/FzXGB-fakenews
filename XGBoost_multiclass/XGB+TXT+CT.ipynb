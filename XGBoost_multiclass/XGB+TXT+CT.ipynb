{
 "cells": [
  {
   "cell_type": "code",
   "execution_count": 1,
   "id": "94e74969-6930-4b28-8437-2c0edfeb6272",
   "metadata": {},
   "outputs": [],
   "source": [
    "from base import *\n",
    "import numpy as np\n",
    "import pandas as pd\n",
    "from sklearn.preprocessing import MinMaxScaler\n",
    "from sklearn.feature_extraction.text import TfidfVectorizer, CountVectorizer\n",
    "from sklearn.metrics import classification_report, accuracy_score\n",
    "from xgboost import XGBClassifier\n",
    "import time\n",
    "import scipy"
   ]
  },
  {
   "cell_type": "code",
   "execution_count": 2,
   "id": "e4883626-77a3-47c3-a847-3432a91954e4",
   "metadata": {},
   "outputs": [],
   "source": [
    "LIAR = Dataset('./liar_dataset')\n",
    "\n",
    "TEXT_TRAIN = LIAR.train['statement'].apply(text_preprocess)\n",
    "TEXT_TEST = LIAR.test['statement'].apply(text_preprocess)\n",
    "\n",
    "CT_TRAIN = LIAR.train['context'].apply(context_preprocess)\n",
    "CT_TEST = LIAR.test['context'].apply(context_preprocess)\n",
    "\n",
    "SJ_TRAIN = LIAR.train['subject'].apply(subject_preprocess)\n",
    "SJ_TEST = LIAR.test['subject'].apply(subject_preprocess)\n",
    "\n",
    "JOB_TRAIN = LIAR.train['job'].apply(job_preprocess)\n",
    "JOB_TEST = LIAR.test['job'].apply(job_preprocess)\n",
    "\n",
    "ST_TRAIN = LIAR.train['state'].str.lower()\n",
    "ST_TEST = LIAR.test['state'].str.lower()\n",
    "\n",
    "AF_TRAIN = LIAR.train['affiliation'].str.lower()\n",
    "AF_TEST = LIAR.test['affiliation'].str.lower()"
   ]
  },
  {
   "cell_type": "code",
   "execution_count": 3,
   "id": "28280d75-b91c-4324-8667-b4940cb90798",
   "metadata": {},
   "outputs": [],
   "source": [
    "tfidf = TfidfVectorizer()\n",
    "cvtr = CountVectorizer(binary=True)\n",
    "\n",
    "ct_train = tfidf.fit_transform(CT_TRAIN)\n",
    "ct_test = tfidf.transform(CT_TEST)\n",
    "sj_train = cvtr.fit_transform(SJ_TRAIN)\n",
    "sj_test = cvtr.transform(SJ_TEST)\n",
    "job_train = cvtr.fit_transform(JOB_TRAIN)\n",
    "job_test = cvtr.transform(JOB_TEST)\n",
    "st_train = cvtr.fit_transform(ST_TRAIN)\n",
    "st_test = cvtr.transform(ST_TEST)\n",
    "af_train = cvtr.fit_transform(AF_TRAIN)\n",
    "af_test = cvtr.transform(AF_TEST)\n",
    "\n",
    "context_train = scipy.sparse.hstack(( ct_train, sj_train, job_train, st_train, af_train ))\n",
    "context_test = scipy.sparse.hstack(( ct_test, sj_test, job_test, st_test, af_test ))\n",
    "\n",
    "text_train = tfidf.fit_transform(TEXT_TRAIN)\n",
    "text_test = tfidf.transform(TEXT_TEST)\n",
    "\n",
    "data_train = scipy.sparse.hstack((text_train, context_train))\n",
    "data_test = scipy.sparse.hstack((text_test, context_test))"
   ]
  },
  {
   "cell_type": "code",
   "execution_count": 4,
   "id": "8f0e91f3-5f6b-4001-8af2-0558c72ff74f",
   "metadata": {
    "scrolled": true
   },
   "outputs": [],
   "source": [
    "class XGB():\n",
    "    def __init__(self):\n",
    "        \n",
    "        self.clf = XGBClassifier(\n",
    "                    n_estimators = 100,\n",
    "                    objective = 'multi:softmax',\n",
    "                    learning_rate = .1,\n",
    "                    max_depth = 6)\n",
    "        \n",
    "        self.map = {\n",
    "            'pants-fire'  : 0, \n",
    "            'false'       : 1, \n",
    "            'barely-true' : 2, \n",
    "            'half-true'   : 3, \n",
    "            'mostly-true' : 4, \n",
    "            'true'        : 5\n",
    "        }\n",
    "        self.prediction = None\n",
    "\n",
    "    def fit(self, X, y):\n",
    "        start = time.time()\n",
    "        y_ = y.map(self.map)\n",
    "        self.clf.fit(X, y_)\n",
    "        end = time.time()\n",
    "        execution_time = end - start\n",
    "        print(f'accuracy: {accuracy_score(y_, self.clf.predict(X))*100:.2f} %')\n",
    "        print(f'training time: {execution_time:.2f}s')\n",
    "\n",
    "    def predict(self, X, y):\n",
    "        start = time.time()\n",
    "        y_ = y.map(self.map)\n",
    "        self.prediction = self.clf.predict(X)\n",
    "        end = time.time()\n",
    "        execution_time = end - start\n",
    "        print(f'accuracy: {accuracy_score(y_, self.prediction)*100:.2f} %')\n",
    "        print(f'prediction time: {execution_time:.2f}s')"
   ]
  },
  {
   "cell_type": "code",
   "execution_count": 5,
   "id": "5541696c-65a3-410a-ab37-2adc292ef732",
   "metadata": {},
   "outputs": [
    {
     "name": "stdout",
     "output_type": "stream",
     "text": [
      "Training phase:\n",
      "accuracy: 55.57 %\n",
      "training time: 29.55s\n",
      "\n",
      "Testing phase:\n",
      "accuracy: 27.98 %\n",
      "prediction time: 0.01s\n"
     ]
    }
   ],
   "source": [
    "clf = XGB()\n",
    "print('Training phase:')\n",
    "clf.fit(data_train, LIAR.y_train)\n",
    "print('\\nTesting phase:')\n",
    "clf.predict(data_test, LIAR.y_test)"
   ]
  },
  {
   "cell_type": "code",
   "execution_count": null,
   "id": "cccaaf14-d131-44e5-b605-63a8721bd647",
   "metadata": {},
   "outputs": [],
   "source": []
  }
 ],
 "metadata": {
  "kernelspec": {
   "display_name": "Python 3 (ipykernel)",
   "language": "python",
   "name": "python3"
  },
  "language_info": {
   "codemirror_mode": {
    "name": "ipython",
    "version": 3
   },
   "file_extension": ".py",
   "mimetype": "text/x-python",
   "name": "python",
   "nbconvert_exporter": "python",
   "pygments_lexer": "ipython3",
   "version": "3.10.13"
  }
 },
 "nbformat": 4,
 "nbformat_minor": 5
}
