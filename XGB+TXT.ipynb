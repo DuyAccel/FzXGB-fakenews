{
 "cells": [
  {
   "cell_type": "code",
   "execution_count": 1,
   "id": "94e74969-6930-4b28-8437-2c0edfeb6272",
   "metadata": {},
   "outputs": [],
   "source": [
    "from base import *\n",
    "import numpy as np\n",
    "import pandas as pd\n",
    "from sklearn.preprocessing import MinMaxScaler\n",
    "from sklearn.feature_extraction.text import TfidfVectorizer\n",
    "from sklearn.metrics import classification_report, accuracy_score\n",
    "from xgboost import XGBClassifier\n",
    "import time"
   ]
  },
  {
   "cell_type": "code",
   "execution_count": 2,
   "id": "29c52603-c3ea-45b6-8dac-f828cf45dc6f",
   "metadata": {},
   "outputs": [],
   "source": [
    "LIAR = Dataset('./liar_dataset')\n",
    "\n",
    "text_train = LIAR.train['statement'].apply(text_preprocess)\n",
    "text_test = LIAR.test['statement'].apply(text_preprocess)\n",
    "\n",
    "tfidf = TfidfVectorizer()\n",
    "data_train = tfidf.fit_transform(text_train)\n",
    "data_test = tfidf.transform(text_test)"
   ]
  },
  {
   "cell_type": "code",
   "execution_count": 3,
   "id": "8f0e91f3-5f6b-4001-8af2-0558c72ff74f",
   "metadata": {
    "scrolled": true
   },
   "outputs": [],
   "source": [
    "class XGB():\n",
    "    def __init__(self):\n",
    "        \n",
    "        self.clf = XGBClassifier(\n",
    "                    n_estimators = 100,\n",
    "                    objective = 'multi:softmax',\n",
    "                    learning_rate = .1,\n",
    "                    max_leaves = 12,\n",
    "                    max_depth = 6)\n",
    "        \n",
    "        self.map = {\n",
    "            'pants-fire'  : 0, \n",
    "            'false'       : 1, \n",
    "            'barely-true' : 2, \n",
    "            'half-true'   : 3, \n",
    "            'mostly-true' : 4, \n",
    "            'true'        : 5\n",
    "        }\n",
    "        self.prediction = None\n",
    "\n",
    "    def fit(self, X, y):\n",
    "        start = time.time()\n",
    "        y_ = y.map(self.map)\n",
    "        self.clf.fit(X, y_)\n",
    "        end = time.time()\n",
    "        execution_time = end - start\n",
    "        print(f'accuracy: {accuracy_score(y_, self.clf.predict(X))*100:.2f} %')\n",
    "        print(f'training time: {execution_time:.2f}s')\n",
    "\n",
    "    def predict(self, X, y):\n",
    "        start = time.time()\n",
    "        y_ = y.map(self.map)\n",
    "        self.prediction = self.clf.predict(X)\n",
    "        end = time.time()\n",
    "        execution_time = end - start\n",
    "        print(f'accuracy: {accuracy_score(y_, self.prediction)*100:.2f} %')\n",
    "        print(f'prediction time: {execution_time:.2f}s')"
   ]
  },
  {
   "cell_type": "code",
   "execution_count": 4,
   "id": "5541696c-65a3-410a-ab37-2adc292ef732",
   "metadata": {},
   "outputs": [
    {
     "name": "stdout",
     "output_type": "stream",
     "text": [
      "Training phase:\n",
      "accuracy: 46.45 %\n",
      "training time: 19.08s\n",
      "\n",
      "Testing phase:\n",
      "accuracy: 24.32 %\n",
      "prediction time: 0.01s\n"
     ]
    }
   ],
   "source": [
    "clf = XGB()\n",
    "print('Training phase:')\n",
    "clf.fit(data_train, LIAR.y_train)\n",
    "print('\\nTesting phase:')\n",
    "# clf.predict(data_train, LIAR.y_train)\n",
    "clf.predict(data_test, LIAR.y_test)"
   ]
  },
  {
   "cell_type": "code",
   "execution_count": null,
   "id": "cccaaf14-d131-44e5-b605-63a8721bd647",
   "metadata": {},
   "outputs": [],
   "source": []
  }
 ],
 "metadata": {
  "kernelspec": {
   "display_name": "Python 3 (ipykernel)",
   "language": "python",
   "name": "python3"
  },
  "language_info": {
   "codemirror_mode": {
    "name": "ipython",
    "version": 3
   },
   "file_extension": ".py",
   "mimetype": "text/x-python",
   "name": "python",
   "nbconvert_exporter": "python",
   "pygments_lexer": "ipython3",
   "version": "3.10.13"
  }
 },
 "nbformat": 4,
 "nbformat_minor": 5
}
